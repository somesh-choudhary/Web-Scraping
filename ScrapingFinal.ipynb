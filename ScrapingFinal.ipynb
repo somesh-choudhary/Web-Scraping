{
 "cells": [
  {
   "cell_type": "code",
   "execution_count": 82,
   "metadata": {},
   "outputs": [],
   "source": [
    "import pandas as pd\n",
    "import numpy as np"
   ]
  },
  {
   "cell_type": "code",
   "execution_count": 83,
   "metadata": {},
   "outputs": [],
   "source": [
    "from urllib.request import urlopen"
   ]
  },
  {
   "cell_type": "code",
   "execution_count": 106,
   "metadata": {},
   "outputs": [],
   "source": [
    "urlwiki = 'https://en.wikipedia.org/wiki/Peter_Jeffrey_(RAAF_officer)'\n",
    "url = 'https://www.ndtv.com/india-news/shiv-sena-mp-arvind-sawant-quits-as-union-minister-amid-tussle-with-bjp-tweets-why-stay-in-delhi-2130506?pfrom=home-topscroll'"
   ]
  },
  {
   "cell_type": "code",
   "execution_count": 85,
   "metadata": {},
   "outputs": [],
   "source": [
    "from lxml import html\n",
    "import requests\n",
    "def url_crawler(link):\n",
    "    url = link\n",
    "    list_of_links = []\n",
    "    for page in range(100):\n",
    "        r = requests.get(url + str(page))\n",
    "        source = r.content\n",
    "        page_source = html.fromstring(source)\n",
    "        list_of_links.extend(page_source.xpath('//a/@href'))\n",
    "    return list_of_links"
   ]
  },
  {
   "cell_type": "code",
   "execution_count": 86,
   "metadata": {},
   "outputs": [],
   "source": [
    "def small_links(list_of_link,term):\n",
    "    a=[]\n",
    "    for i in range(len(list_of_link)):\n",
    "        if term not in list_of_link[i]:\n",
    "            a.append(list_of_link[i])\n",
    "    for i in range(len(a)):\n",
    "        list_of_link.remove(a[i])\n",
    "    return list_of_link"
   ]
  },
  {
   "cell_type": "code",
   "execution_count": 87,
   "metadata": {},
   "outputs": [],
   "source": [
    "def clean_links(list_of_links,size):\n",
    "    a=[list_of_links[i] for i in range(len(list_of_links)) if(len(list_of_links[i])>size)]\n",
    "    return a"
   ]
  },
  {
   "cell_type": "code",
   "execution_count": 89,
   "metadata": {},
   "outputs": [
    {
     "data": {
      "text/plain": [
       "12000"
      ]
     },
     "execution_count": 89,
     "metadata": {},
     "output_type": "execute_result"
    }
   ],
   "source": [
    "lol = url_crawler(url)\n",
    "len(lol)"
   ]
  },
  {
   "cell_type": "code",
   "execution_count": 90,
   "metadata": {},
   "outputs": [
    {
     "data": {
      "text/plain": [
       "6642"
      ]
     },
     "execution_count": 90,
     "metadata": {},
     "output_type": "execute_result"
    }
   ],
   "source": [
    "lol_clean = clean_links(lol,45)\n",
    "len(lol_clean)"
   ]
  },
  {
   "cell_type": "code",
   "execution_count": 91,
   "metadata": {},
   "outputs": [
    {
     "data": {
      "text/plain": [
       "4515"
      ]
     },
     "execution_count": 91,
     "metadata": {},
     "output_type": "execute_result"
    }
   ],
   "source": [
    "lol_small = small_links(lol,'new')\n",
    "len(lol_small)"
   ]
  },
  {
   "cell_type": "code",
   "execution_count": null,
   "metadata": {},
   "outputs": [],
   "source": []
  },
  {
   "cell_type": "code",
   "execution_count": 93,
   "metadata": {
    "scrolled": true
   },
   "outputs": [],
   "source": [
    "from newspaper import Article\n",
    "def process(link):\n",
    "    df_text=[]\n",
    "    date=[]\n",
    "    keywords=[]\n",
    "    summary=[]\n",
    "    title=[]\n",
    "    article=Article(link)\n",
    "    article.download()\n",
    "    article.html\n",
    "    article.parse()\n",
    "    df_text.append(article.text)\n",
    "    title.append(article.title)\n",
    "    date.append(article.publish_date)\n",
    "    article.nlp()\n",
    "    keywords.append(article.keywords)\n",
    "    summary.append(article.summary)\n",
    "    #url.append(list_of_links[i])\n",
    "    \n",
    "    return title,df_text,date,keywords,summary"
   ]
  },
  {
   "cell_type": "code",
   "execution_count": 98,
   "metadata": {
    "scrolled": true
   },
   "outputs": [],
   "source": [
    "title,text,date,keywords,summary = process(url)"
   ]
  },
  {
   "cell_type": "code",
   "execution_count": 101,
   "metadata": {},
   "outputs": [],
   "source": [
    "data=pd.DataFrame({\"title\":title,\"text\":text,\"date\":date,\"keywords\":keywords,\"summary\":summary})\n",
    "data.to_csv(\"ScrapData.csv\",index=False)"
   ]
  },
  {
   "cell_type": "code",
   "execution_count": 102,
   "metadata": {},
   "outputs": [],
   "source": [
    "df = pd.read_csv('ScrapData.csv')"
   ]
  },
  {
   "cell_type": "code",
   "execution_count": null,
   "metadata": {},
   "outputs": [],
   "source": []
  },
  {
   "cell_type": "code",
   "execution_count": 109,
   "metadata": {},
   "outputs": [
    {
     "name": "stdout",
     "output_type": "stream",
     "text": [
      "['//upload.wikimedia.org/wikipedia/commons/thumb/a/af/NlaJeffrey1942-43.jpg/220px-NlaJeffrey1942-43.jpg\\n', '//upload.wikimedia.org/wikipedia/commons/thumb/c/c5/008315JeffreyTurnbull1941.jpg/260px-008315JeffreyTurnbull1941.jpg\\n', '//upload.wikimedia.org/wikipedia/commons/e/ea/021807CameronJeffrey1941.jpg\\n', '//upload.wikimedia.org/wikipedia/commons/thumb/9/92/AC0072JeffreyTruscottKittyhawks1942.jpg/280px-AC0072JeffreyTruscottKittyhawks1942.jpg\\n', '//upload.wikimedia.org/wikipedia/commons/thumb/2/26/VIC1689Jeffrey1945.jpg/280px-VIC1689Jeffrey1945.jpg\\n']\n"
     ]
    }
   ],
   "source": [
    "#links of all the images on the page\n",
    "from bs4 import BeautifulSoup\n",
    "import re\n",
    "\n",
    "html = urlopen(urlwiki)\n",
    "bs = BeautifulSoup(html, 'html.parser')\n",
    "imagelinks = []\n",
    "images = bs.find_all('img', {'src':re.compile('.jpg')})\n",
    "for image in images: \n",
    "    imagelinks.append(image['src']+'\\n')\n",
    "\n",
    "print(imagelinks)"
   ]
  },
  {
   "cell_type": "code",
   "execution_count": null,
   "metadata": {},
   "outputs": [],
   "source": []
  }
 ],
 "metadata": {
  "kernelspec": {
   "display_name": "Python 3",
   "language": "python",
   "name": "python3"
  },
  "language_info": {
   "codemirror_mode": {
    "name": "ipython",
    "version": 3
   },
   "file_extension": ".py",
   "mimetype": "text/x-python",
   "name": "python",
   "nbconvert_exporter": "python",
   "pygments_lexer": "ipython3",
   "version": "3.7.3"
  }
 },
 "nbformat": 4,
 "nbformat_minor": 2
}
